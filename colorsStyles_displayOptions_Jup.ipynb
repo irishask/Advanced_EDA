{
 "cells": [
  {
   "cell_type": "code",
   "execution_count": 7,
   "metadata": {},
   "outputs": [],
   "source": [
    "import pandas as pd"
   ]
  },
  {
   "cell_type": "code",
   "execution_count": 8,
   "metadata": {},
   "outputs": [],
   "source": [
    "# PANDAS DISPLAY OPTIONS:\n",
    "# For all display options=>  https://pandas.pydata.org/pandas-docs/version/0.22/options.html\n",
    "# For all display options=>  https://pandas.pydata.org/pandas-docs/version/0.22/options.html\n",
    "\n",
    "def display_options_for_pandas():\n",
    "    pd.set_option('display.max_rows', 500)   #Decrease it to\n",
    "    pd.set_option('display.max_columns', 100)\n",
    "    pd.set_option('max_colwidth', 300)     # Sets the maximum width of columns. Cells of this length or longer will be truncated with an ellipsis.\n",
    "    pd.set_option('display.width', 100000)\n",
    "    pd.set_option('column_space', 50)\n",
    "    pd.set_option('precision', 4)   #sets the output display precision in terms of decimal places\n",
    "    pd.get_option(\"display.max_row\", 1000)\n",
    "    # pd.set_option(\"display.max_rows\", 101)  #default = 500\n",
    "    pd.set_option('max_info_columns', 100)\n",
    "\n",
    "    # Reset ALL display options:\n",
    "    #pd.reset_option(\"^display\")\n",
    "    # Reset wanted display option:\n",
    "    #pd.reset_option('display.width')\n",
    "    pass"
   ]
  },
  {
   "cell_type": "code",
   "execution_count": 9,
   "metadata": {},
   "outputs": [],
   "source": [
    "# https://pypi.org/project/colored/\n",
    "# http://ozzmaker.com/add-colour-to-text-in-python/\n",
    "# https://plumbum.readthedocs.io/en/latest/colors.html\n",
    "\n",
    "\"\"\"\n",
    "The above ANSI escape code will set the text colour to bright green. The format is;\n",
    "\\033[  Escape code, this is always the same\n",
    "1 = Style, 1 for normal.\n",
    "32 = Text colour, 32 for bright green.\n",
    "40m = Background colour, 40 is for black.\n",
    "\"\"\"\n",
    "\n",
    "class ColorsStyles:\n",
    "    reset='\\033[0m'\n",
    "    bold='\\033[01m'\n",
    "    disable='\\033[02m'\n",
    "    underline='\\033[04m'\n",
    "    reverse='\\033[07m'\n",
    "    strikethrough='\\033[09m'\n",
    "    invisible='\\033[08m'\n",
    "\n",
    "    class fg:   #foreground\n",
    "        black='\\033[30m'\n",
    "        red='\\033[31m'\n",
    "        green='\\033[32m'\n",
    "        orange = '\\033[43m'\n",
    "        blue='\\033[34m'\n",
    "        purple='\\033[35m'\n",
    "        cyan='\\033[36m'\n",
    "        lightgrey='\\033[37m'\n",
    "        darkgrey='\\033[90m'\n",
    "        lightred='\\033[91m'\n",
    "        lightgreen='\\033[92m'\n",
    "        magenta = '\\033[35m'\n",
    "        yellow='\\033[93m'\n",
    "        lightblue='\\033[94m'\n",
    "        pink='\\033[95m'\n",
    "        lightcyan='\\033[96m'\n",
    "        white = '\\033[37m'\n",
    "\n",
    "    class bg:    #Background\n",
    "        black='\\033[40m'\n",
    "        red='\\033[41m'\n",
    "        green='\\033[42m'\n",
    "        orange='\\033[43m'\n",
    "        blue='\\033[44m'\n",
    "        purple='\\033[45m'\n",
    "        cyan='\\033[46m'\n",
    "        #lightGrey='\\033[47m'\n",
    "        lightPurple='\\033[94m'\n",
    "        white ='\\033[37m'\n",
    "\n",
    "# # Examples:-------------------\n",
    "# print(colors.colors.fg.blue+ f\"\\tHello\")\n",
    "# print (colors.colors.bold + f\"Linear Regression for X2:\" + colors.colors.reset)\n",
    "# print(colors.colors.fg.magenta + f\"\\tHello\")\n",
    "# print(colors.colors.reset)"
   ]
  }
 ],
 "metadata": {
  "kernelspec": {
   "display_name": "Python 3",
   "language": "python",
   "name": "python3"
  },
  "language_info": {
   "codemirror_mode": {
    "name": "ipython",
    "version": 3
   },
   "file_extension": ".py",
   "mimetype": "text/x-python",
   "name": "python",
   "nbconvert_exporter": "python",
   "pygments_lexer": "ipython3",
   "version": "3.8.5"
  }
 },
 "nbformat": 4,
 "nbformat_minor": 4
}
